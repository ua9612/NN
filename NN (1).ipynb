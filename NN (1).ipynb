{
 "cells": [
  {
   "cell_type": "code",
   "execution_count": null,
   "metadata": {},
   "outputs": [],
   "source": [
    "pip install -r requirements.txt"
   ]
  },
  {
   "cell_type": "code",
   "execution_count": null,
   "metadata": {},
   "outputs": [],
   "source": [
    "import numpy as np\n",
    "import pandas as pd"
   ]
  },
  {
   "cell_type": "code",
   "execution_count": null,
   "metadata": {},
   "outputs": [],
   "source": [
    "dic = pd.read_pickle(\"data_batch_1\")"
   ]
  },
  {
   "cell_type": "code",
   "execution_count": null,
   "metadata": {},
   "outputs": [],
   "source": [
    "KEYS = list(dic.keys())"
   ]
  },
  {
   "cell_type": "code",
   "execution_count": null,
   "metadata": {},
   "outputs": [],
   "source": [
    "X_train = list(dic[b'data'])\n",
    "y = list(dic[b'labels'])"
   ]
  },
  {
   "cell_type": "code",
   "execution_count": null,
   "metadata": {},
   "outputs": [],
   "source": [
    "X_train = np.array(X_train , dtype = np.float128).reshape(10000,1024)\n",
    "y_train = []"
   ]
  },
  {
   "cell_type": "code",
   "execution_count": null,
   "metadata": {},
   "outputs": [],
   "source": [
    "for i in y:\n",
    "    temp = [0 for _ in range(10)]\n",
    "    temp[i] = 1\n",
    "    y_train.append(temp)"
   ]
  },
  {
   "cell_type": "code",
   "execution_count": null,
   "metadata": {},
   "outputs": [],
   "source": [
    "y_train = np.array(y_train)"
   ]
  },
  {
   "cell_type": "code",
   "execution_count": null,
   "metadata": {},
   "outputs": [],
   "source": [
    "y[0]"
   ]
  },
  {
   "cell_type": "code",
   "execution_count": null,
   "metadata": {},
   "outputs": [],
   "source": [
    "w1 = np.random.randn(10,1024)\n",
    "w2 = np.random.randn(1 , 10)\n",
    "b1 = np.zeros(shape = (10,1))\n",
    "b2 = np.zeros(shape = (1,1))"
   ]
  },
  {
   "cell_type": "code",
   "execution_count": null,
   "metadata": {},
   "outputs": [],
   "source": [
    "def sigmoid(x):\n",
    "    return 1/(1+np.exp(-x))\n",
    "\n",
    "def sigmoid_der(x):\n",
    "    return sigmoid(x) *(1-sigmoid (x))"
   ]
  },
  {
   "cell_type": "code",
   "execution_count": null,
   "metadata": {},
   "outputs": [],
   "source": [
    "def compute_cost():\n",
    "    return 0"
   ]
  },
  {
   "cell_type": "code",
   "execution_count": null,
   "metadata": {},
   "outputs": [],
   "source": [
    "def forward_prop(x,w1,w2,b1,b2):\n",
    "    a1 = x\n",
    "    z2 = w1 @ a1\n",
    "    a2 = sigmoid(z2)  + b1\n",
    "    z3 = w2 @ a2\n",
    "    a3 = sigmoid(z3)\n",
    "    \n",
    "    cache = {\n",
    "        \"z2\":z2,\n",
    "        \"a2\":a2,\n",
    "        \"z3\":z3\n",
    "    }\n",
    "    return a3 , cache"
   ]
  },
  {
   "cell_type": "code",
   "execution_count": null,
   "metadata": {},
   "outputs": [],
   "source": [
    "def backward_prop(a3 , y, cache):\n",
    "    d3 = a3 - y\n",
    "    d2 = (w2.T @ d3) @ sigmoid_der(z2)\n",
    "    \n",
    "    j2 = a2 @ d3\n",
    "\n",
    "    \n",
    "    return j2"
   ]
  },
  {
   "cell_type": "code",
   "execution_count": null,
   "metadata": {},
   "outputs": [],
   "source": [
    "def gradientDescent(w2,j2,alpha,iters):\n",
    "    \n",
    "    for i in range(iters):\n",
    "        w2 = w2 - alpha*(j2)\n",
    "\n",
    "        \n",
    "    return w2"
   ]
  },
  {
   "cell_type": "code",
   "execution_count": null,
   "metadata": {},
   "outputs": [],
   "source": [
    "for i in range(10000):\n",
    "    X = X_train[i,:].reshape(1024,1)\n",
    "    y = y[i]\n",
    "    \n",
    "    alpha = 0.03\n",
    "    iters = 10000\n",
    "    \n",
    "    a3 , cache = forward_prop (X , w1 , w2 , b1 , b2)\n",
    "    j2 = backward_prop(a3 , y , cache)\n",
    "    w2 = gradientDescent(w2,j2,alpha,iters)\n",
    "    print(w2)"
   ]
  }
 ],
 "metadata": {
  "kernelspec": {
   "display_name": "Python 3",
   "language": "python",
   "name": "python3"
  },
  "language_info": {
   "codemirror_mode": {
    "name": "ipython",
    "version": 3
   },
   "file_extension": ".py",
   "mimetype": "text/x-python",
   "name": "python",
   "nbconvert_exporter": "python",
   "pygments_lexer": "ipython3",
   "version": "3.7.8"
  }
 },
 "nbformat": 4,
 "nbformat_minor": 4
}
